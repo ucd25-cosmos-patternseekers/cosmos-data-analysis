{
 "cells": [
  {
   "cell_type": "code",
   "execution_count": 40,
   "id": "19f21c4b",
   "metadata": {},
   "outputs": [
    {
     "name": "stdout",
     "output_type": "stream",
     "text": [
      "Saved CSV: top20_app_transitions.csv\n"
     ]
    }
   ],
   "source": [
    "import pandas as pd\n",
    "\n",
    "# Load your cleaned CSV file\n",
    "df = pd.read_csv(\"lsapp_processed.csv\")\n",
    "\n",
    "# Ensure data is sorted by user and time so sequences make sense\n",
    "df = df.sort_values(['user_id', 'timestamp'])\n",
    "\n",
    "# Create 'next_app' column\n",
    "df['next_app'] = df.groupby('user_id')['app_name'].shift(-1)\n",
    "\n",
    "# Build the full transition matrix\n",
    "transitions = df.groupby(['app_name', 'next_app']).size().unstack(fill_value=0)\n",
    "\n",
    "# Find the total counts of each app (both as current and next app)\n",
    "app_usage_counts = df['app_name'].value_counts() + df['next_app'].value_counts()\n",
    "app_usage_counts = app_usage_counts.dropna()  # Drop NaN if any\n",
    "\n",
    "# Get the top 20 apps based on total counts\n",
    "top_20_apps = app_usage_counts.sort_values(ascending=False).head(20).index\n",
    "\n",
    "# Filter the transition matrix to only those top 20 apps for rows and columns\n",
    "filtered_transitions = transitions.loc[top_20_apps, top_20_apps].fillna(0)\n",
    "\n",
    "# Save the matrix as a CSV file\n",
    "filtered_transitions.to_csv('top20_app_transitions.csv')\n",
    "print(\"Saved CSV: top20_app_transitions.csv\")"
   ]
  },
  {
   "cell_type": "code",
   "execution_count": 41,
   "id": "06de2e88",
   "metadata": {},
   "outputs": [
    {
     "name": "stdout",
     "output_type": "stream",
     "text": [
      "Most likely next app after each app:\n",
      "app_name\n",
      "amazon shopping                     google\n",
      "android in call ui                contacts\n",
      "aol                     facebook messenger\n",
      "army men strike            army men strike\n",
      "badoo                   whatsapp messenger\n",
      "                               ...        \n",
      "wechat                               faceu\n",
      "whatsapp messenger                  google\n",
      "words with friends 2         google chrome\n",
      "yahoo mail                   google chrome\n",
      "youtube                             google\n",
      "Name: next_app, Length: 87, dtype: object\n"
     ]
    }
   ],
   "source": [
    "next_app_mode = df.groupby('app_name')['next_app'].agg(lambda x: x.mode()[0] if not x.mode().empty else None)\n",
    "print(\"Most likely next app after each app:\")\n",
    "print(next_app_mode)"
   ]
  },
  {
   "cell_type": "code",
   "execution_count": 42,
   "id": "ff2490d5",
   "metadata": {},
   "outputs": [
    {
     "name": "stdout",
     "output_type": "stream",
     "text": [
      "Top 5 most used apps:\n",
      "app_name\n",
      "google                74824\n",
      "google chrome         74126\n",
      "facebook messenger    45231\n",
      "facebook              44397\n",
      "gmail                 29547\n",
      "Name: count, dtype: int64\n"
     ]
    }
   ],
   "source": [
    "top5 = df['app_name'].value_counts().head(5)\n",
    "print(\"Top 5 most used apps:\")\n",
    "print(top5)"
   ]
  },
  {
   "cell_type": "code",
   "execution_count": 43,
   "id": "03563391",
   "metadata": {},
   "outputs": [
    {
     "name": "stdout",
     "output_type": "stream",
     "text": [
      "CSV saved: apps_per_user_distribution.csv\n"
     ]
    }
   ],
   "source": [
    "apps_per_user = df.groupby('user_id')['app_name'].nunique()\n",
    "\n",
    "# Convert the Series to a DataFrame (optional, but nicer for CSV)\n",
    "apps_per_user_df = apps_per_user.reset_index()\n",
    "apps_per_user_df.columns = ['user_id', 'unique_apps_used']\n",
    "\n",
    "# Save to CSV\n",
    "apps_per_user_df.to_csv('apps_per_user_distribution.csv', index=False)\n",
    "\n",
    "print(\"CSV saved: apps_per_user_distribution.csv\")"
   ]
  }
 ],
 "metadata": {
  "kernelspec": {
   "display_name": "cosmos",
   "language": "python",
   "name": "python3"
  },
  "language_info": {
   "codemirror_mode": {
    "name": "ipython",
    "version": 3
   },
   "file_extension": ".py",
   "mimetype": "text/x-python",
   "name": "python",
   "nbconvert_exporter": "python",
   "pygments_lexer": "ipython3",
   "version": "3.12.11"
  }
 },
 "nbformat": 4,
 "nbformat_minor": 5
}
